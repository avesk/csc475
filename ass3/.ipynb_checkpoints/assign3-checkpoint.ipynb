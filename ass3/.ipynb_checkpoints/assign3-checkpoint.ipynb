{
 "cells": [
  {
   "cell_type": "markdown",
   "metadata": {},
   "source": [
    "# Question 1"
   ]
  },
  {
   "cell_type": "markdown",
   "metadata": {},
   "source": [
    "### Part a)"
   ]
  },
  {
   "cell_type": "code",
   "execution_count": 32,
   "metadata": {},
   "outputs": [
    {
     "name": "stdout",
     "output_type": "stream",
     "text": [
      "1.21790106639462\n"
     ]
    }
   ],
   "source": [
    "# AMDF\n",
    "import matplotlib.pyplot as plt\n",
    "import numpy as np\n",
    "\n",
    "# average magnitude difference function\n",
    "def AMDF(m, x):\n",
    "    N = len(x)\n",
    "    sn = 0 # sum\n",
    "    cnt = 0\n",
    "    for i in range(0,N-m):\n",
    "        sn+=np.abs(x[i]-x[i+m])\n",
    "        cnt=i\n",
    "    return sn/(N-m-1)\n",
    "\n",
    "srate = 22050.0\n",
    "\n",
    "# generate a discrete time sinusoid signal with a specified amplitude, frequency, duration, and phase \n",
    "def sinusoid(freq=440.0, dur=1.0, srate=44100.0, amp=1.0, phase = 0.0): \n",
    "    t = np.linspace(0,dur,int(srate*dur))\n",
    "    data = amp * np.sin(2*np.pi*freq *t+phase)\n",
    "    return data\n",
    "\n",
    "# frequencies of three notes (C, D, E) \n",
    "c_freq = 523.0   \n",
    "d_freq = 587.0  \n",
    "e_freq = 659.0\n",
    "\n",
    "# generate sine signals corresponding to each note \n",
    "c_data = sinusoid(c_freq, 0.5, srate)\n",
    "d_data = sinusoid(d_freq, 0.5, srate)\n",
    "e_data = sinusoid(e_freq, 0.5, srate)\n",
    "\n",
    "print(AMDF(523, c_data))"
   ]
  },
  {
   "cell_type": "code",
   "execution_count": null,
   "metadata": {},
   "outputs": [],
   "source": []
  }
 ],
 "metadata": {
  "kernelspec": {
   "display_name": "Python 3",
   "language": "python",
   "name": "python3"
  },
  "language_info": {
   "codemirror_mode": {
    "name": "ipython",
    "version": 3
   },
   "file_extension": ".py",
   "mimetype": "text/x-python",
   "name": "python",
   "nbconvert_exporter": "python",
   "pygments_lexer": "ipython3",
   "version": "3.7.4"
  }
 },
 "nbformat": 4,
 "nbformat_minor": 2
}
