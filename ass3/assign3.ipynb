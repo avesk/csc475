{
 "cells": [
  {
   "cell_type": "markdown",
   "metadata": {},
   "source": [
    "# Question 1"
   ]
  },
  {
   "cell_type": "markdown",
   "metadata": {},
   "source": [
    "### Part a)"
   ]
  },
  {
   "cell_type": "code",
   "execution_count": 97,
   "metadata": {
    "scrolled": true
   },
   "outputs": [
    {
     "name": "stdout",
     "output_type": "stream",
     "text": [
      "1\n",
      "293\n",
      "294\n",
      "150.0\n"
     ]
    }
   ],
   "source": [
    "# AMDF\n",
    "import matplotlib.pyplot as plt\n",
    "import numpy as np\n",
    "\n",
    "# average magnitude difference function\n",
    "def AMDF(m, x):\n",
    "    N = int(len(x)/2)\n",
    "    sn = 0 # sum\n",
    "    for i in range(0,N):\n",
    "        sn+=np.abs(x[i]-x[i+m])\n",
    "    return sn/N\n",
    "\n",
    "def AMDF_pitch(x):\n",
    "    N = int(len(x)/2)\n",
    "    minm = N+1\n",
    "    min_avg = N+1\n",
    "    for m in range(1, N):\n",
    "        avg_diff = AMDF(m, x)\n",
    "        if avg_diff < min_avg:\n",
    "            print(m)\n",
    "            min_avg = avg_diff\n",
    "            minm = m\n",
    "    return minm\n",
    "\n",
    "srate = 44100.0\n",
    "\n",
    "# generate a discrete time sinusoid signal with a specified amplitude, frequency, duration, and phase \n",
    "def sinusoid(freq=440.0, dur=1.0, srate=44100.0, amp=1.0, phase = 0.0): \n",
    "    t = np.linspace(0,dur,int(srate*dur))\n",
    "    data = amp * np.sin(2*np.pi*freq *t+phase)\n",
    "    return data\n",
    "\n",
    "# frequency\n",
    "freq = 150  \n",
    "freq2 = 250\n",
    "# sine\n",
    "sine = sinusoid(freq, 0.1, srate)\n",
    "\n",
    "# AMDF(int(srate/freq2), sine)\n",
    "# print(AMDF(int(srate/523), c_data))\n",
    "print( srate/AMDF_pitch(sine) )"
   ]
  },
  {
   "cell_type": "code",
   "execution_count": null,
   "metadata": {},
   "outputs": [],
   "source": []
  },
  {
   "cell_type": "code",
   "execution_count": null,
   "metadata": {},
   "outputs": [],
   "source": []
  }
 ],
 "metadata": {
  "kernelspec": {
   "display_name": "Python 3",
   "language": "python",
   "name": "python3"
  },
  "language_info": {
   "codemirror_mode": {
    "name": "ipython",
    "version": 3
   },
   "file_extension": ".py",
   "mimetype": "text/x-python",
   "name": "python",
   "nbconvert_exporter": "python",
   "pygments_lexer": "ipython3",
   "version": "3.7.4"
  }
 },
 "nbformat": 4,
 "nbformat_minor": 2
}
